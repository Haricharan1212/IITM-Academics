{
 "cells": [
  {
   "cell_type": "markdown",
   "metadata": {},
   "source": [
    "# Foundations of computational Physics \n",
    "PH1050 (May-June 2022)\n",
    "\n",
    "Web Resource: \n",
    "1. https://docs.python.org/3.7/tutorial/index.html\n",
    "2. https://developers.google.com/edu/python"
   ]
  },
  {
   "cell_type": "markdown",
   "metadata": {},
   "source": [
    "## Numerical Differetiation "
   ]
  },
  {
   "cell_type": "markdown",
   "metadata": {},
   "source": [
    "web-resource: https://www.math.ubc.ca/~pwalls/math-python/differentiation/differentiation/"
   ]
  },
  {
   "cell_type": "markdown",
   "metadata": {},
   "source": [
    "### Three simple methods to compute numerical derivatives:\n",
    "#### Forward:  (f(a+h) - f(a))/h\n",
    "#### Backward: (f(a) - f(a-h))/h \n",
    "#### Central : (f(a+h)-f(a-h))/2h"
   ]
  },
  {
   "cell_type": "code",
   "execution_count": null,
   "metadata": {},
   "outputs": [],
   "source": [
    "import numpy as np\n",
    "import matplotlib.pyplot as plt"
   ]
  },
  {
   "cell_type": "code",
   "execution_count": null,
   "metadata": {},
   "outputs": [],
   "source": [
    "def num_deriv(f, a, h, method):\n",
    "    if method == 'central':\n",
    "        return (f(a + h) - f(a - h))/(2*h)\n",
    "    elif method == 'forward':\n",
    "        return (f(a + h) - f(a))/h\n",
    "    elif method == 'backward':\n",
    "        return (f(a) - f(a - h))/h\n",
    "    else:\n",
    "        print(\"Method not known.\")"
   ]
  },
  {
   "cell_type": "code",
   "execution_count": null,
   "metadata": {},
   "outputs": [],
   "source": [
    "# test\n",
    "num_deriv(f=np.sin, a=0.5, h=0.01, method='central')"
   ]
  },
  {
   "cell_type": "code",
   "execution_count": null,
   "metadata": {},
   "outputs": [],
   "source": [
    "# test\n",
    "num_deriv(np.sin, 0.5, 0.01,'central')"
   ]
  },
  {
   "cell_type": "markdown",
   "metadata": {},
   "source": [
    "#### Example: Compute (numerical) derivatives of Sin(x) using different methods and compare them with exact values."
   ]
  },
  {
   "cell_type": "code",
   "execution_count": null,
   "metadata": {},
   "outputs": [],
   "source": [
    "# change of methods, fixed step size \n",
    "method_list=['central', 'forward', 'backward']\n",
    "for method in method_list:\n",
    "    num_deriv_val=num_deriv(np.sin, 0.5, 0.01, method)\n",
    "    #print(method, num_deriv_val)\n",
    "    print('method:%s,' %method, 'deriv_val:%2.4f' %num_deriv_val) # %s (string), %f (float), %d (integer)"
   ]
  },
  {
   "cell_type": "code",
   "execution_count": null,
   "metadata": {},
   "outputs": [],
   "source": [
    "# comparison with exact derivative values: error \n",
    "def err_num_deriv(f, a, h, method):\n",
    "    approx_deriv_val=num_deriv(f, a, h, method)\n",
    "    exact_deriv_val=np.cos(a)\n",
    "    err_val=np.abs(exact_deriv_val-approx_deriv_val)\n",
    "    return err_val"
   ]
  },
  {
   "cell_type": "code",
   "execution_count": null,
   "metadata": {},
   "outputs": [],
   "source": [
    "# change of methods, fixed step size \n",
    "method_list=['central', 'forward', 'backward']\n",
    "for method in method_list:\n",
    "    err_val=err_num_deriv(np.sin, 0.5, 0.01, method)\n",
    "    print('method:%s,' %method, 'err_val:%2.6f' %err_val) "
   ]
  },
  {
   "cell_type": "markdown",
   "metadata": {},
   "source": [
    "#### Example: Compute (numerical) derivatives of Sin(x) using different h values and compare them with exact values. "
   ]
  },
  {
   "cell_type": "code",
   "execution_count": null,
   "metadata": {},
   "outputs": [],
   "source": [
    "# changing step size, one method \n",
    "h_list=10**np.linspace(-4, -1, 4)\n",
    "for h in h_list:\n",
    "    num_deriv_val=num_deriv(np.sin, 0.5, h, 'forward')\n",
    "    err_val=np.abs(np.cos(0.5)-num_deriv_val)\n",
    "    print('h=%s,' %h, 'num_deriv_val%2.6f,' %num_deriv_val, 'err_val:%2.6f' %err_val)"
   ]
  },
  {
   "cell_type": "code",
   "execution_count": null,
   "metadata": {},
   "outputs": [],
   "source": [
    "# changing step size, different method \n",
    "h_list=10**np.linspace(-4, -1, 4)\n",
    "for h in h_list:\n",
    "    num_deriv_val=num_deriv(np.sin, 0.5, h, 'central')\n",
    "    err_val=np.abs(np.cos(0.5)-num_deriv_val)\n",
    "    print('h=%s,' %h, 'num_deriv_val%2.6f,' %num_deriv_val, 'err_val:%2.8f' %err_val)"
   ]
  },
  {
   "cell_type": "markdown",
   "metadata": {},
   "source": [
    "#### Note: Restrictions on small h value"
   ]
  },
  {
   "cell_type": "code",
   "execution_count": null,
   "metadata": {},
   "outputs": [],
   "source": [
    "# more on step size\n",
    "h_list=10**np.linspace(-17, -1, 17)\n",
    "for h in h_list:\n",
    "    num_deriv_val=num_deriv(np.sin, 0.5, h, 'central')\n",
    "    err_val=np.abs(np.cos(0.5)-num_deriv_val)\n",
    "    print('h=%s,' %h, 'num_deriv_val:%2.6f,' %num_deriv_val, 'err_val:%2.14f' %err_val)"
   ]
  },
  {
   "cell_type": "markdown",
   "metadata": {},
   "source": [
    "#### Note: Take a note of what is happenning to the derivative value with h=10^(-17)."
   ]
  },
  {
   "cell_type": "markdown",
   "metadata": {},
   "source": [
    "## Little polishing"
   ]
  },
  {
   "cell_type": "code",
   "execution_count": null,
   "metadata": {},
   "outputs": [],
   "source": [
    "import numpy as np\n",
    "import matplotlib.pyplot as plt\n",
    "\n",
    "#\n",
    "# function to compute 1st order derivatives \n",
    "#\n",
    "\n",
    "def num_deriv(f, a, h=10**(-6), method='central'):\n",
    "    if method == 'central':\n",
    "        return (f(a + h) - f(a - h))/(2*h)\n",
    "    elif method == 'forward':\n",
    "        return (f(a + h) - f(a))/h\n",
    "    elif method == 'backward':\n",
    "        return (f(a) - f(a - h))/h\n",
    "    else:\n",
    "        raise ValueError(\"Method not known.\") # note the use of the keyword --'raise'.  \n",
    "\n",
    "#        \n",
    "# function to compute errors in computing 1st order derivatives\n",
    "#\n",
    "\n",
    "def err_num_deriv(f, a):\n",
    "    approx_deriv_val=num_deriv(f, a)\n",
    "    exact_deriv_val=lambda a : np.cos(a) # note the use of the keyword --'lambda'\n",
    "    err_val=np.abs(exact_deriv_val-approx_deriv_val)\n",
    "    return err_val\n",
    "\n",
    "# plot the numerical derivative on top of analytical one.\n",
    "x = np.linspace(0,4*np.pi,100)\n",
    "dydx_num = num_deriv(np.sin, x)\n",
    "\n",
    "dydx_exact = np.cos(x)\n",
    "\n",
    "plt.figure(figsize=(14,5))\n",
    "plt.plot(x,dydx_num,'r.',label='Central Difference') # note standard python line-styles (below) also legend labels go here\n",
    "plt.plot(x,dydx_exact,'k',label='Exact') # note python colors short names (below) \n",
    "plt.title('Central Difference Derivative of Sin(x)')\n",
    "plt.legend(loc='best') # note legend placement options (below)\n",
    "#plt.legend(loc=0) # alternatively one can use location code for legend position"
   ]
  },
  {
   "cell_type": "markdown",
   "metadata": {},
   "source": [
    "#### Note : Python color keywords\n",
    "\n",
    "b : blue.\n",
    "g : green.\n",
    "r : red.\n",
    "c : cyan.\n",
    "m : magenta.\n",
    "y : yellow.\n",
    "k : black\n",
    "w : white"
   ]
  },
  {
   "cell_type": "markdown",
   "metadata": {},
   "source": [
    "#### Note : Python line styles\n",
    "\n",
    "'-' ; continuous, \n",
    "'--'; dash,\n",
    "'-.'; dash-dot,\n",
    "'.' ; dotted"
   ]
  },
  {
   "cell_type": "markdown",
   "metadata": {},
   "source": [
    "#### Note : legend placement\n",
    "\n",
    "Location String\t/ Location Code:\n",
    "'best'\t/ 0\n",
    "'upper right' /\t1\n",
    "'upper left' / \t2\n",
    "'lower left' / \t3\n",
    "'lower right' / 4\n",
    "'right'\t/ 5\n",
    "'center left'/ \t6\n",
    "'center right'/\t7\n",
    "'lower center'/\t8\n",
    "'upper center'\t/9\n",
    "'center'\t/10"
   ]
  },
  {
   "cell_type": "markdown",
   "metadata": {},
   "source": [
    "### scipy.misc.derivative "
   ]
  },
  {
   "cell_type": "markdown",
   "metadata": {},
   "source": [
    "#### Note: Uses Central Differencing "
   ]
  },
  {
   "cell_type": "markdown",
   "metadata": {},
   "source": [
    "#### Syntax: derivative(f(x),x,dx=step-size)"
   ]
  },
  {
   "cell_type": "code",
   "execution_count": null,
   "metadata": {},
   "outputs": [],
   "source": [
    "from scipy.misc import derivative\n",
    "# plot the numerical derivative on top of analytical one.\n",
    "x = np.linspace(0,4*np.pi,100)\n",
    "\n",
    "dydx_num = derivative(np.sin, x, 1)\n",
    "\n",
    "dydx_exact = np.cos(x)\n",
    "\n",
    "plt.figure(figsize=(14,5))\n",
    "plt.plot(x,dydx_num,'k.',label='Central Difference')\n",
    "plt.plot(x,dydx_exact,'c-',label='Exact') \n",
    "plt.title('Derivative of Sin(x) using Scipy function')\n",
    "plt.legend(loc=0)\n",
    "plt.show()"
   ]
  }
 ],
 "metadata": {
  "kernelspec": {
   "display_name": "Python 3",
   "language": "python",
   "name": "python3"
  },
  "language_info": {
   "codemirror_mode": {
    "name": "ipython",
    "version": 3
   },
   "file_extension": ".py",
   "mimetype": "text/x-python",
   "name": "python",
   "nbconvert_exporter": "python",
   "pygments_lexer": "ipython3",
   "version": "3.9.0"
  }
 },
 "nbformat": 4,
 "nbformat_minor": 2
}
