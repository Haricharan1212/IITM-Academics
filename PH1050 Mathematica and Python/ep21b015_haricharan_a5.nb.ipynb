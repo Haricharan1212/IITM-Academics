{
 "cells": [
  {
   "cell_type": "markdown",
   "id": "60132a76",
   "metadata": {},
   "source": [
    "# Assignment 5"
   ]
  },
  {
   "cell_type": "markdown",
   "id": "87f57a04",
   "metadata": {},
   "source": [
    "Importing the required module"
   ]
  },
  {
   "cell_type": "code",
   "execution_count": 1,
   "id": "db02358a",
   "metadata": {},
   "outputs": [],
   "source": [
    "from matplotlib import pyplot as plt"
   ]
  },
  {
   "cell_type": "markdown",
   "id": "03598f54",
   "metadata": {},
   "source": [
    "## 1. Using the function ‘range’, construct a list ‘L1’ of first ten even numbers (exclude 0) and another list L2 of first ten negative numbers."
   ]
  },
  {
   "cell_type": "markdown",
   "id": "cf0a1337",
   "metadata": {},
   "source": [
    "Generating lists using the range(start, stop, step) function "
   ]
  },
  {
   "cell_type": "code",
   "execution_count": 2,
   "id": "ade497bd",
   "metadata": {},
   "outputs": [],
   "source": [
    "L1 = list(range(2, 21, 2))\n",
    "L2 = list(range(-1, -11, -1))"
   ]
  },
  {
   "cell_type": "markdown",
   "id": "b89aea8a",
   "metadata": {},
   "source": [
    "### (a) Print the list L3 which is formed by concatenating L1 and L2."
   ]
  },
  {
   "cell_type": "markdown",
   "id": "7ae0081b",
   "metadata": {},
   "source": [
    "Using L3 by list concatenation, where \"+\" is the concatenation operator for lists"
   ]
  },
  {
   "cell_type": "code",
   "execution_count": 3,
   "id": "cabe8190",
   "metadata": {},
   "outputs": [
    {
     "name": "stdout",
     "output_type": "stream",
     "text": [
      "[2, 4, 6, 8, 10, 12, 14, 16, 18, 20, -1, -2, -3, -4, -5, -6, -7, -8, -9, -10]\n"
     ]
    }
   ],
   "source": [
    "L3 = L1 + L2\n",
    "print(L3)"
   ]
  },
  {
   "cell_type": "markdown",
   "id": "ab9739bf",
   "metadata": {},
   "source": [
    "### (b) Print the third number from the beginning and second number from the end of the list"
   ]
  },
  {
   "cell_type": "markdown",
   "id": "eeda9e0d",
   "metadata": {},
   "source": [
    "Print the required elements in the list. list[element] gives the appropriate element.\n",
    "\n",
    "<u>Note:</u> lists in Python are zero-indexed."
   ]
  },
  {
   "cell_type": "code",
   "execution_count": 4,
   "id": "48191ca0",
   "metadata": {},
   "outputs": [
    {
     "name": "stdout",
     "output_type": "stream",
     "text": [
      "6\n",
      "-9\n"
     ]
    }
   ],
   "source": [
    "print(L3[2], L3[-2], sep = \"\\n\")"
   ]
  },
  {
   "cell_type": "markdown",
   "id": "d9544766",
   "metadata": {},
   "source": [
    "### (c) Extract 4th to 8th elements from L3."
   ]
  },
  {
   "cell_type": "markdown",
   "id": "553184cf",
   "metadata": {},
   "source": [
    "Using list slicing to get the appropriate elements from L3"
   ]
  },
  {
   "cell_type": "code",
   "execution_count": 5,
   "id": "555dfd4c",
   "metadata": {},
   "outputs": [
    {
     "name": "stdout",
     "output_type": "stream",
     "text": [
      "[8, 10, 12, 14, 16]\n"
     ]
    }
   ],
   "source": [
    "print(L3[3:8])"
   ]
  },
  {
   "attachments": {
    "image.png": {
     "image/png": "[encoded data removed]"
    }
   },
   "cell_type": "markdown",
   "id": "b0daa8dd",
   "metadata": {},
   "source": [
    "## 2. Define the following function:\n",
    "![image.png](attachment:image.png)"
   ]
  },
  {
   "cell_type": "markdown",
   "id": "300c66d5",
   "metadata": {},
   "source": [
    "Using the \"def\" keyword to define a function\n",
    "Using \"if\" statements to have conditionals to use the piecewise definition in func(x, f)"
   ]
  },
  {
   "cell_type": "code",
   "execution_count": 6,
   "id": "e3f549e6",
   "metadata": {},
   "outputs": [],
   "source": [
    "def func(x,f):\n",
    "    if f < 0:\n",
    "        return 2*x\n",
    "    elif f > 0:\n",
    "        return 3*x + f\n",
    "    else:\n",
    "        return 0"
   ]
  },
  {
   "cell_type": "markdown",
   "id": "ba8bd208",
   "metadata": {},
   "source": [
    "### (a) Evaluate this function for (x = 16, f = −0.4), (x = 4, f = 0.5), and (x = 20, f = 0)."
   ]
  },
  {
   "cell_type": "markdown",
   "id": "a9dd4907",
   "metadata": {},
   "source": [
    "Evaluating the function at the required points"
   ]
  },
  {
   "cell_type": "code",
   "execution_count": 7,
   "id": "c4d31c34",
   "metadata": {},
   "outputs": [
    {
     "name": "stdout",
     "output_type": "stream",
     "text": [
      "32\n",
      "12.5\n",
      "0\n"
     ]
    }
   ],
   "source": [
    "required_values = ((16, -0.4), (4, 0.5), (20,0))\n",
    "for (x, f) in required_values:\n",
    "    print(func(x, f))"
   ]
  },
  {
   "cell_type": "markdown",
   "id": "2cc6be17",
   "metadata": {},
   "source": [
    "### (b) Using ‘while’ loop, create a list ‘lst’ with the following sequence: [func(3,-10), func(6, -8), func(9, -6), ...]. The list should end at f = 20 (included)."
   ]
  },
  {
   "cell_type": "markdown",
   "id": "da8e97d3",
   "metadata": {},
   "source": [
    "Using a while loop to create the required function. The while loop breaks when f becomes equal to 20."
   ]
  },
  {
   "cell_type": "code",
   "execution_count": 8,
   "id": "0f19bda3",
   "metadata": {},
   "outputs": [],
   "source": [
    "x, f = 3, -10\n",
    "lst = []\n",
    "while f != 20:\n",
    "    lst.append(func(x, f))\n",
    "    x += 3\n",
    "    f += 2\n",
    "\n",
    "lst.append(func(x, f))"
   ]
  },
  {
   "cell_type": "markdown",
   "id": "082c2822",
   "metadata": {},
   "source": [
    "### (c) Print lst. Now sort lst in ascending order (this will change the original list itself)."
   ]
  },
  {
   "cell_type": "markdown",
   "id": "59cb0327",
   "metadata": {},
   "source": [
    "lst.sort() is a method on the list, that sorts the list. It sorts \"inplace\" and doesn't return anything."
   ]
  },
  {
   "cell_type": "code",
   "execution_count": 9,
   "id": "5f778d0d",
   "metadata": {},
   "outputs": [
    {
     "name": "stdout",
     "output_type": "stream",
     "text": [
      "[6, 12, 18, 24, 30, 0, 65, 76, 87, 98, 109, 120, 131, 142, 153, 164]\n",
      "[0, 6, 12, 18, 24, 30, 65, 76, 87, 98, 109, 120, 131, 142, 153, 164]\n"
     ]
    }
   ],
   "source": [
    "print(lst)\n",
    "lst.sort()\n",
    "print(lst)"
   ]
  },
  {
   "cell_type": "markdown",
   "id": "a6cf1a7e",
   "metadata": {},
   "source": [
    "### (d) Using ‘for’ loop, square each number in the sorted lst."
   ]
  },
  {
   "cell_type": "markdown",
   "id": "ee08de22",
   "metadata": {},
   "source": [
    "Using a for loop to iterate over each number in the sorted list and squaring them."
   ]
  },
  {
   "cell_type": "code",
   "execution_count": 10,
   "id": "e0cb44ed",
   "metadata": {},
   "outputs": [
    {
     "name": "stdout",
     "output_type": "stream",
     "text": [
      "[0, 36, 144, 324, 576, 900, 4225, 5776, 7569, 9604, 11881, 14400, 17161, 20164, 23409, 26896]\n"
     ]
    }
   ],
   "source": [
    "squared_lst = []\n",
    "for i in lst:\n",
    "    squared_lst.append(i**2)\n",
    "print(squared_lst)"
   ]
  },
  {
   "cell_type": "markdown",
   "id": "2f71750a",
   "metadata": {},
   "source": [
    "## 3.\n",
    "### (a) Create a list “lst”, containing elements in the range (-10, 10) with a gap of unity."
   ]
  },
  {
   "cell_type": "markdown",
   "id": "fd71de96",
   "metadata": {},
   "source": [
    "Creating a list \"lst\" with elements in the required range, with a gap of unity"
   ]
  },
  {
   "cell_type": "code",
   "execution_count": 11,
   "id": "850f8cce",
   "metadata": {},
   "outputs": [
    {
     "name": "stdout",
     "output_type": "stream",
     "text": [
      "[-10, -9, -8, -7, -6, -5, -4, -3, -2, -1, 0, 2, 3, 4, 5, 6, 7, 8, 9]\n"
     ]
    }
   ],
   "source": [
    "lst = []\n",
    "for i in range(-10, 10):\n",
    "    if i != 1:\n",
    "        lst.append(i)\n",
    "print(lst)"
   ]
  },
  {
   "cell_type": "markdown",
   "id": "db7458bd",
   "metadata": {},
   "source": [
    "### (b) Now using for loop create two more lists named “lstx” and “lstx”, with elements as squares and cubes of elements of “lst” respectively. Try writing the for loop in a single line to create each of the lists."
   ]
  },
  {
   "cell_type": "markdown",
   "id": "0038bf6c",
   "metadata": {},
   "source": [
    "Using list comprehension to create the required lists"
   ]
  },
  {
   "cell_type": "code",
   "execution_count": 12,
   "id": "f7d9cb16",
   "metadata": {},
   "outputs": [],
   "source": [
    "lstx = []\n",
    "lsty = []\n",
    "for i in lst: lstx.append(i**2)\n",
    "for i in lst: lsty.append(i**3)\n",
    "\n",
    "#Another way\n",
    "#lstx = [i**2 for i in lst]\n",
    "#lsty = [i**3 for i in lst]"
   ]
  },
  {
   "cell_type": "markdown",
   "id": "bf191170",
   "metadata": {},
   "source": [
    "### (c) Plot the lists “lstx” and “lsty”, with “lstx” on x-axis and “lsty” on y-axis. Put x and y label as X(units) and Y(units) respectively. Put plot title as “Stern Gerlach experiment like plot”. You need to import matplotlib.pyplot library."
   ]
  },
  {
   "cell_type": "markdown",
   "id": "d485ffa0",
   "metadata": {},
   "source": [
    "Plotting the required lists using the plot function from matplotlib"
   ]
  },
  {
   "cell_type": "code",
   "execution_count": 13,
   "id": "ad3c3644",
   "metadata": {},
   "outputs": [
    {
     "data": {
      "image/png": "[encoded data removed]",
      "text/plain": [
       "<Figure size 576x396 with 1 Axes>"
      ]
     },
     "metadata": {},
     "output_type": "display_data"
    }
   ],
   "source": [
    "#Using a different theme for fun!\n",
    "plt.style.use(\"seaborn\")\n",
    "\n",
    "plt.plot(lstx, lsty)\n",
    "plt.xlabel(\"X(units)\")\n",
    "plt.ylabel(\"Y(units)\")\n",
    "plt.title(\"Stern Gerlach Experiment like plot\")\n",
    "plt.show()"
   ]
  },
  {
   "cell_type": "code",
   "execution_count": null,
   "id": "955133ae",
   "metadata": {},
   "outputs": [],
   "source": []
  }
 ],
 "metadata": {
  "kernelspec": {
   "display_name": "Python 3 (ipykernel)",
   "language": "python",
   "name": "python3"
  },
  "language_info": {
   "codemirror_mode": {
    "name": "ipython",
    "version": 3
   },
   "file_extension": ".py",
   "mimetype": "text/x-python",
   "name": "python",
   "nbconvert_exporter": "python",
   "pygments_lexer": "ipython3",
   "version": "3.10.2"
  }
 },
 "nbformat": 4,
 "nbformat_minor": 5
}
