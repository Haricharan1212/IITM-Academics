{
 "cells": [
  {
   "cell_type": "markdown",
   "metadata": {},
   "source": [
    "# Foundations of computational Physics \n",
    "PH1050 (May-June 2022)\n",
    "\n",
    "Web Resource: \n",
    "1. https://docs.python.org/3.7/tutorial/index.html\n",
    "2. https://developers.google.com/edu/python"
   ]
  },
  {
   "cell_type": "markdown",
   "metadata": {},
   "source": [
    "## Numerical Integration \n",
    "\n",
    "web resource: https://www.math.ubc.ca/~pwalls/math-python/integration/integrals/"
   ]
  },
  {
   "cell_type": "code",
   "execution_count": null,
   "metadata": {},
   "outputs": [],
   "source": [
    "import numpy as np\n",
    "import matplotlib.pyplot as plt"
   ]
  },
  {
   "cell_type": "markdown",
   "metadata": {},
   "source": [
    "### Three simple methods"
   ]
  },
  {
   "cell_type": "markdown",
   "metadata": {},
   "source": [
    "##### Riemann Sum : left, right and mid-point "
   ]
  },
  {
   "cell_type": "markdown",
   "metadata": {},
   "source": [
    "Example : Compute (numerically) the approximate area under the curve given by the function (see below) between the limits [0, 5]. Cosider 10 subdivisions. "
   ]
  },
  {
   "cell_type": "code",
   "execution_count": 1,
   "metadata": {},
   "outputs": [],
   "source": [
    "import numpy as np\n",
    "import matplotlib.pyplot as plt"
   ]
  },
  {
   "cell_type": "code",
   "execution_count": 3,
   "metadata": {},
   "outputs": [
    {
     "data": {
      "image/png": "[encoded data removed]",
      "text/plain": [
       "<Figure size 432x288 with 1 Axes>"
      ]
     },
     "metadata": {
      "needs_background": "light"
     },
     "output_type": "display_data"
    }
   ],
   "source": [
    "f = lambda x : 1/(1+x**2)\n",
    "a = 0; b = 5; N = 100\n",
    "# x-vector\n",
    "x=np.linspace(a, b, N+1)\n",
    "# y-vector\n",
    "y=f(x)\n",
    "# plot the function\n",
    "plt.plot(x, y, 'k')\n",
    "plt.fill_between(x, y)\n",
    "plt.show()"
   ]
  },
  {
   "cell_type": "code",
   "execution_count": 4,
   "metadata": {},
   "outputs": [],
   "source": [
    "# Rienmann Sum using the three methods \n",
    "import numpy as np\n",
    "def riemann_sum(f, a, b, N, method):\n",
    "    dx = (b - a)/N\n",
    "    x = np.linspace(a,b,N+1)\n",
    "    #print x\n",
    "    if method == 'left':\n",
    "        x_left = x[:-1]\n",
    "        return np.sum(f(x_left)*dx)\n",
    "    elif method == 'right':\n",
    "        x_right = x[1:]\n",
    "        return np.sum(f(x_right)*dx)\n",
    "    elif method == 'midpoint':\n",
    "        x_mid = (x[:-1] + x[1:])/2\n",
    "        return np.sum(f(x_mid)*dx)\n",
    "    else:\n",
    "        raise ValueError(\"Method must be 'left', 'right' or 'midpoint'.\")"
   ]
  },
  {
   "cell_type": "code",
   "execution_count": null,
   "metadata": {},
   "outputs": [],
   "source": [
    "#test\n",
    "f = lambda x : 1/(1+x**2)\n",
    "a = 0; b = 5; N = 10\n",
    "riemann_sum(f, a, b, N, 'midpoint')"
   ]
  },
  {
   "cell_type": "code",
   "execution_count": null,
   "metadata": {},
   "outputs": [],
   "source": [
    "#test (rectified)\n",
    "f = lambda x : 1/(1+x**2)\n",
    "a = 0; b = 5; N = 100\n",
    "print(riemann_sum(f, a, b, N, 'midpoint'))"
   ]
  },
  {
   "cell_type": "code",
   "execution_count": null,
   "metadata": {},
   "outputs": [],
   "source": [
    "# change of methods, fixed N\n",
    "method_list=['midpoint', 'left', 'right']\n",
    "for method in method_list:\n",
    "    int_riemann_sum=riemann_sum(f, a, b, N, method)\n",
    "    print('method:%s,' %method, 'int_riemann_sum:%2.6f' %int_riemann_sum) # %s (string), %f (float), %d (integer)"
   ]
  },
  {
   "cell_type": "code",
   "execution_count": null,
   "metadata": {},
   "outputs": [],
   "source": [
    "# known integral : Int[1/(1+x**2),x]=ArcTan(x)\n",
    "int_exact=lambda x : np.arctan(x) # note the use of evalf\n",
    "print(int_exact(5)-int_exact(0))"
   ]
  },
  {
   "cell_type": "code",
   "execution_count": null,
   "metadata": {},
   "outputs": [],
   "source": [
    "# comparison with exact derivative values: error \n",
    "def err_num_int(f, a, b, N, method):\n",
    "    approx_int_val=riemann_sum(f, a, b, N, method)\n",
    "    exact_int_val=int_exact(b)-int_exact(a)\n",
    "    err_val=np.abs(exact_int_val-approx_int_val)\n",
    "    return err_val"
   ]
  },
  {
   "cell_type": "code",
   "execution_count": null,
   "metadata": {},
   "outputs": [],
   "source": [
    "# change of methods, fixed step size \n",
    "method_list=['midpoint', 'left', 'right']\n",
    "for method in method_list:\n",
    "    err_val=err_num_int(f, a, b, N, method)\n",
    "    print('method:%s,' %method, 'err_val:%2.6f' %err_val) "
   ]
  },
  {
   "cell_type": "markdown",
   "metadata": {},
   "source": [
    "#### Note: Midpoint method evaluates the integral closer to the expected value. "
   ]
  },
  {
   "cell_type": "markdown",
   "metadata": {},
   "source": [
    "Example : Compute (numerically) the approximate area under the curve given by the function (see below) between the limits [0, 5]. Assume different N values."
   ]
  },
  {
   "cell_type": "code",
   "execution_count": null,
   "metadata": {},
   "outputs": [],
   "source": [
    "# changing step size, one method \n",
    "N_list=10**np.arange(1, 4, 1)\n",
    "for N in N_list:\n",
    "    approx_int_val=riemann_sum(f, a, b, N, 'left')\n",
    "    exact_int_val=int_exact(b)-int_exact(a)\n",
    "    err_val=np.abs(exact_int_val-approx_int_val)\n",
    "    print('N=%d,' %N, 'approx_int_val:%2.6f,' %approx_int_val, 'err_val:%2.6f' %err_val)"
   ]
  },
  {
   "cell_type": "code",
   "execution_count": null,
   "metadata": {},
   "outputs": [],
   "source": [
    "# changing step size, one method \n",
    "N_list=10**np.arange(1, 4, 1)\n",
    "for N in N_list:\n",
    "    approx_int_val=riemann_sum(f, a, b, N, 'right')\n",
    "    exact_int_val=int_exact(b)-int_exact(a)\n",
    "    err_val=np.abs(exact_int_val-approx_int_val)\n",
    "    print('N=%d,' %N, 'approx_int_val:%2.6f,' %approx_int_val, 'err_val:%2.6f' %err_val)"
   ]
  },
  {
   "cell_type": "code",
   "execution_count": null,
   "metadata": {},
   "outputs": [],
   "source": [
    "# changing step size, one method \n",
    "N_list=10**np.arange(1, 4, 1)\n",
    "for N in N_list:\n",
    "    approx_int_val=riemann_sum(f, a, b, N, 'midpoint')\n",
    "    exact_int_val=int_exact(b)-int_exact(a)\n",
    "    err_val=np.abs(exact_int_val-approx_int_val)\n",
    "    print('N=%d,' %N, 'approx_int_val:%2.14f,' %approx_int_val, 'err_val:%2.6f' %err_val)"
   ]
  },
  {
   "cell_type": "markdown",
   "metadata": {},
   "source": [
    "##### Trapezoid Rule: TRY Yourselves "
   ]
  },
  {
   "cell_type": "markdown",
   "metadata": {},
   "source": [
    "##### Simpson's Rule: Try Yourselves "
   ]
  },
  {
   "cell_type": "markdown",
   "metadata": {},
   "source": [
    "Important Note : It can be explicitly shown that the error in a Riemann sum is inversely proportional to the size of the partition N (more precisely for left/right point sums) and the trapezoid rule is inversely proportional to N^2. The error with Simpson's rule is even better as the error is inversely proportional to N^4. \n",
    "\n",
    "Explore error bounds associated with each method (see the web resource link above.)"
   ]
  },
  {
   "cell_type": "markdown",
   "metadata": {},
   "source": [
    "### using scipy.intergrate "
   ]
  },
  {
   "cell_type": "markdown",
   "metadata": {},
   "source": [
    "Alternatively, you may use the SciPy functions scipy.integrate.cumtrapz and scipy.integrate.simps functions for the trape-zoidal and Simpsons methods."
   ]
  },
  {
   "cell_type": "markdown",
   "metadata": {},
   "source": [
    "## Ordinary Differetial Equations\n",
    "Web-resource: https://secure.math.ubc.ca/~pwalls/math-python/differential-equations/first-order/"
   ]
  },
  {
   "cell_type": "markdown",
   "metadata": {},
   "source": [
    "### Euler method"
   ]
  },
  {
   "cell_type": "code",
   "execution_count": null,
   "metadata": {},
   "outputs": [],
   "source": [
    "import numpy as np\n",
    "import matplotlib.pyplot as plt"
   ]
  },
  {
   "cell_type": "code",
   "execution_count": null,
   "metadata": {},
   "outputs": [],
   "source": [
    "def odeEuler(f,y0,t):\n",
    "    '''Approximate the solution of y'=f(y,t) by Euler's method.\n",
    "\n",
    "    Parameters\n",
    "    ----------\n",
    "    f : function\n",
    "        Right-hand side of the differential equation y'=f(t,y), y(t_0)=y_0\n",
    "    y0 : number\n",
    "        Initial value y(t0)=y0 wher t0 is the entry at index 0 in the array t\n",
    "    t : array\n",
    "        1D NumPy array of t values where we approximate y values. Time step\n",
    "        at each iteration is given by t[n+1] - t[n].\n",
    "\n",
    "    Returns\n",
    "    -------\n",
    "    y : 1D NumPy array\n",
    "        Approximation y[n] of the solution y(t_n) computed by Euler's method.\n",
    "    '''\n",
    "    y = np.zeros(len(t))\n",
    "    y[0] = y0\n",
    "    for n in range(0,len(t)-1):\n",
    "        y[n+1] = y[n] + f(y[n],t[n])*(t[n+1] - t[n])\n",
    "    return y"
   ]
  },
  {
   "cell_type": "markdown",
   "metadata": {},
   "source": [
    "#### Example: Solve y'=y for t in [0, 2] with y(t=0)=1."
   ]
  },
  {
   "cell_type": "code",
   "execution_count": null,
   "metadata": {},
   "outputs": [],
   "source": [
    "t = np.linspace(0,2,11)\n",
    "y0 = 1\n",
    "f = lambda y, t : y\n",
    "y = odeEuler(f,y0,t)\n",
    "y_true = np.exp(t)\n",
    "plt.plot(t,y,'b.-',t,y_true,'r-')\n",
    "plt.legend(['Euler','True'])\n",
    "plt.axis([0,2,0,9])\n",
    "plt.grid(True)\n",
    "plt.title(\"Solution of $y'=y , y(0)=1$\")"
   ]
  },
  {
   "cell_type": "code",
   "execution_count": null,
   "metadata": {},
   "outputs": [],
   "source": [
    "#vary the steps\n",
    "for N in [10, 20]:\n",
    "    t = np.linspace(0,2,N+1)\n",
    "    y0 = 1\n",
    "    def dy_dt(y, t):\n",
    "        return y\n",
    "    y = odeEuler(dy_dt,y0,t)\n",
    "    y_true = np.exp(t)\n",
    "    plt.plot(t, y, 'b.-', t,y_true,'r-')\n",
    "    plt.legend(['Euler','True'])\n",
    "    plt.axis([0,2,0,9])\n",
    "    plt.grid(True)\n",
    "    plt.title(\"Solution of $y'=y , y(0)=1$\")"
   ]
  },
  {
   "cell_type": "markdown",
   "metadata": {},
   "source": [
    "Note: While, large N (smaller step) reduces errors, it also enhances computation load."
   ]
  },
  {
   "cell_type": "markdown",
   "metadata": {},
   "source": [
    "### scipy.integrate.odeint"
   ]
  },
  {
   "cell_type": "code",
   "execution_count": null,
   "metadata": {},
   "outputs": [],
   "source": [
    "from scipy.integrate import odeint"
   ]
  },
  {
   "cell_type": "code",
   "execution_count": null,
   "metadata": {},
   "outputs": [],
   "source": [
    "t = np.linspace(0,2,11)\n",
    "y0 = 1\n",
    "def dy_dt(y, t):\n",
    "    return y\n",
    "y = odeint(dy_dt, y0, t) # 'odeint' replaces 'odeEuler'\n",
    "y_true = np.exp(t)\n",
    "plt.plot(t,y,'b.-',t,y_true,'r-')\n",
    "plt.legend(['Euler','True'])\n",
    "plt.axis([0,2,0,9])\n",
    "plt.grid(True)\n",
    "plt.title(\"Solution of $y'=y , y(0)=1$\")"
   ]
  },
  {
   "cell_type": "markdown",
   "metadata": {},
   "source": [
    "### System of equations / Second order differential Equations"
   ]
  },
  {
   "cell_type": "markdown",
   "metadata": {},
   "source": [
    "#### Example: Solve x''(t)=-x(t) for t in [0, 10]"
   ]
  },
  {
   "cell_type": "markdown",
   "metadata": {},
   "source": [
    "Note: A second order differetial equation, in order to be solved using 'odeint' must be converted into two first order equations e.g. x''(t)=-x(t) can be written as x'(t)=v and v'(t)=-x(t)."
   ]
  },
  {
   "cell_type": "code",
   "execution_count": null,
   "metadata": {},
   "outputs": [],
   "source": [
    "import numpy as np\n",
    "import matplotlib.pyplot as plt\n",
    "t = np.linspace(0, 10, 101)\n",
    "def uhar_osc(y, t):\n",
    "    x, v = y # Here y is a vector such that x=y[0] and v=y[1]\n",
    "             # This function should return [x', v']\n",
    "    dydt = [v, -x]\n",
    "    return dydt\n",
    "from scipy.integrate import odeint\n",
    "y0 = [1.0, 0.0]\n",
    "sol = odeint(uhar_osc, y0, t)\n",
    "plt.plot(t, sol[:, 0], 'b', label='x')\n",
    "plt.plot(t, sol[:, 1], 'g', label='v')\n",
    "plt.legend(loc='best')\n",
    "plt.xlabel('t')\n",
    "plt.grid()"
   ]
  },
  {
   "cell_type": "markdown",
   "metadata": {},
   "source": [
    "Alternatively, a more abstract definition of derivatives can be introduced. (see below)"
   ]
  },
  {
   "cell_type": "code",
   "execution_count": null,
   "metadata": {},
   "outputs": [],
   "source": [
    "import numpy as np\n",
    "import matplotlib.pyplot as plt\n",
    "t = np.linspace(0, 10, 101)\n",
    "def uhar_osc(y, t):\n",
    "    # Here y is a vector such that x=y[0] and v=y[1]. This function should return [x', v']\n",
    "    return [y[1], -y[0]]\n",
    "from scipy.integrate import odeint\n",
    "y0 = [1.0, 0.0]\n",
    "sol = odeint(uhar_osc, y0, t)\n",
    "plt.plot(t, sol[:, 0], 'b', label='x(t)')\n",
    "plt.plot(t, sol[:, 1], 'g', label='v(t)')\n",
    "plt.legend(loc='best')\n",
    "plt.xlabel('t')\n",
    "plt.grid()"
   ]
  },
  {
   "cell_type": "markdown",
   "metadata": {},
   "source": [
    "### Loading/saving a data file in python"
   ]
  },
  {
   "cell_type": "code",
   "execution_count": null,
   "metadata": {},
   "outputs": [],
   "source": [
    "import numpy as np\n",
    "import matplotlib.pyplot as plt"
   ]
  },
  {
   "cell_type": "markdown",
   "metadata": {},
   "source": [
    "#### np.loadtxt()"
   ]
  },
  {
   "cell_type": "code",
   "execution_count": null,
   "metadata": {},
   "outputs": [],
   "source": [
    "loc='/Users/chandra/Documents/mycourses/PH1050_2021a/data/'\n",
    "file_name='varBRSE.dat'\n",
    "data=np.loadtxt(loc+file_name)"
   ]
  },
  {
   "cell_type": "code",
   "execution_count": null,
   "metadata": {},
   "outputs": [],
   "source": [
    "f=data[:,0]\n",
    "Sn=data[:,1]\n",
    "plt.loglog(f, Sn, 'k-.')\n",
    "plt.xlabel('f')\n",
    "plt.ylabel('Sn(f)')\n",
    "plt.title('Noise Power Spectral Density')\n",
    "plt.legend(['LIGO'])"
   ]
  },
  {
   "cell_type": "markdown",
   "metadata": {},
   "source": [
    "#### np.savetxt()"
   ]
  },
  {
   "cell_type": "code",
   "execution_count": null,
   "metadata": {},
   "outputs": [],
   "source": [
    "Sn2=Sn**2\n",
    "out_file_name='Sn2.dat'\n",
    "np.savetxt(loc+out_file_name, (f, Sn, Sn2))"
   ]
  }
 ],
 "metadata": {
  "kernelspec": {
   "display_name": "Python 3 (ipykernel)",
   "language": "python",
   "name": "python3"
  },
  "language_info": {
   "codemirror_mode": {
    "name": "ipython",
    "version": 3
   },
   "file_extension": ".py",
   "mimetype": "text/x-python",
   "name": "python",
   "nbconvert_exporter": "python",
   "pygments_lexer": "ipython3",
   "version": "3.10.2"
  }
 },
 "nbformat": 4,
 "nbformat_minor": 2
}
