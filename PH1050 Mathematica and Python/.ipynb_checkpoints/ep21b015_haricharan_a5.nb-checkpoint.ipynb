{
 "cells": [
  {
   "cell_type": "markdown",
   "id": "60132a76",
   "metadata": {},
   "source": [
    "# Assignment 5"
   ]
  },
  {
   "cell_type": "markdown",
   "id": "87f57a04",
   "metadata": {},
   "source": [
    "Importing the required module"
   ]
  },
  {
   "cell_type": "code",
   "execution_count": 50,
   "id": "db02358a",
   "metadata": {},
   "outputs": [],
   "source": [
    "from matplotlib import pyplot as plt\n",
    "import numpy as np\n",
    "from numpy import linalg as LA"
   ]
  },
  {
   "cell_type": "markdown",
   "id": "03598f54",
   "metadata": {},
   "source": [
    "## 1. Using the function ‘range’, construct a list ‘L1’ of first ten even numbers (exclude 0) and another list L2 of first ten negative numbers."
   ]
  },
  {
   "cell_type": "markdown",
   "id": "cf0a1337",
   "metadata": {},
   "source": [
    "Generating lists using the range(start, stop, step) function "
   ]
  },
  {
   "cell_type": "code",
   "execution_count": 2,
   "id": "ade497bd",
   "metadata": {},
   "outputs": [],
   "source": [
    "L1 = list(range(2, 21, 2))\n",
    "L2 = list(range(-1, -11, -1))"
   ]
  },
  {
   "cell_type": "markdown",
   "id": "b89aea8a",
   "metadata": {},
   "source": [
    "### (a) Print the list L3 which is formed by concatenating L1 and L2."
   ]
  },
  {
   "cell_type": "markdown",
   "id": "7ae0081b",
   "metadata": {},
   "source": [
    "Using L3 by list concatenation, where \"+\" is the concatenation operator for lists"
   ]
  },
  {
   "cell_type": "code",
   "execution_count": 3,
   "id": "cabe8190",
   "metadata": {},
   "outputs": [
    {
     "name": "stdout",
     "output_type": "stream",
     "text": [
      "[2, 4, 6, 8, 10, 12, 14, 16, 18, 20, -1, -2, -3, -4, -5, -6, -7, -8, -9, -10]\n"
     ]
    }
   ],
   "source": [
    "L3 = L1 + L2\n",
    "print(L3)"
   ]
  },
  {
   "cell_type": "markdown",
   "id": "ab9739bf",
   "metadata": {},
   "source": [
    "### (b) Print the third number from the beginning and second number from the end of the list"
   ]
  },
  {
   "cell_type": "markdown",
   "id": "eeda9e0d",
   "metadata": {},
   "source": [
    "Print the required elements in the list. list[element] gives the appropriate element.\n",
    "\n",
    "<u>Note:</u> lists in Python are zero-indexed."
   ]
  },
  {
   "cell_type": "code",
   "execution_count": 4,
   "id": "48191ca0",
   "metadata": {},
   "outputs": [
    {
     "name": "stdout",
     "output_type": "stream",
     "text": [
      "6\n",
      "-9\n"
     ]
    }
   ],
   "source": [
    "print(L3[2], L3[-2], sep = \"\\n\")"
   ]
  },
  {
   "cell_type": "markdown",
   "id": "d9544766",
   "metadata": {},
   "source": [
    "### (c) Extract 4th to 8th elements from L3."
   ]
  },
  {
   "cell_type": "markdown",
   "id": "553184cf",
   "metadata": {},
   "source": [
    "Using list slicing to get the appropriate elements from L3"
   ]
  },
  {
   "cell_type": "code",
   "execution_count": 5,
   "id": "555dfd4c",
   "metadata": {},
   "outputs": [
    {
     "name": "stdout",
     "output_type": "stream",
     "text": [
      "[8, 10, 12, 14, 16]\n"
     ]
    }
   ],
   "source": [
    "print(L3[3:8])"
   ]
  },
  {
   "attachments": {
    "image.png": {
     "image/png": "[encoded data removed]"
    }
   },
   "cell_type": "markdown",
   "id": "b0daa8dd",
   "metadata": {},
   "source": [
    "## 2. Define the following function:\n",
    "![image.png](attachment:image.png)"
   ]
  },
  {
   "cell_type": "markdown",
   "id": "300c66d5",
   "metadata": {},
   "source": [
    "Using the \"def\" keyword to define a function\n",
    "Using \"if\" statements to have conditionals to use the piecewise definition in func(x, f)"
   ]
  },
  {
   "cell_type": "code",
   "execution_count": 6,
   "id": "e3f549e6",
   "metadata": {},
   "outputs": [],
   "source": [
    "def func(x,f):\n",
    "    if f < 0:\n",
    "        return 2*x\n",
    "    elif f > 0:\n",
    "        return 3*x + f\n",
    "    else:\n",
    "        return 0"
   ]
  },
  {
   "cell_type": "markdown",
   "id": "ba8bd208",
   "metadata": {},
   "source": [
    "### (a) Evaluate this function for (x = 16, f = −0.4), (x = 4, f = 0.5), and (x = 20, f = 0)."
   ]
  },
  {
   "cell_type": "markdown",
   "id": "a9dd4907",
   "metadata": {},
   "source": [
    "Evaluating the function at the required points"
   ]
  },
  {
   "cell_type": "code",
   "execution_count": 7,
   "id": "c4d31c34",
   "metadata": {},
   "outputs": [
    {
     "name": "stdout",
     "output_type": "stream",
     "text": [
      "32\n",
      "12.5\n",
      "0\n"
     ]
    }
   ],
   "source": [
    "required_values = ((16, -0.4), (4, 0.5), (20,0))\n",
    "for (x, f) in required_values:\n",
    "    print(func(x, f))"
   ]
  },
  {
   "cell_type": "markdown",
   "id": "2cc6be17",
   "metadata": {},
   "source": [
    "### (b) Using ‘while’ loop, create a list ‘lst’ with the following sequence: [func(3,-10), func(6, -8), func(9, -6), ...]. The list should end at f = 20 (included)."
   ]
  },
  {
   "cell_type": "markdown",
   "id": "da8e97d3",
   "metadata": {},
   "source": [
    "Using a while loop to create the required function. The while loop breaks when f becomes equal to 20."
   ]
  },
  {
   "cell_type": "code",
   "execution_count": 8,
   "id": "0f19bda3",
   "metadata": {},
   "outputs": [],
   "source": [
    "x, f = 3, -10\n",
    "lst = []\n",
    "while f != 20:\n",
    "    lst.append(func(x, f))\n",
    "    x += 3\n",
    "    f += 2\n",
    "\n",
    "lst.append(func(x, f))"
   ]
  },
  {
   "cell_type": "markdown",
   "id": "082c2822",
   "metadata": {},
   "source": [
    "### (c) Print lst. Now sort lst in ascending order (this will change the original list itself)."
   ]
  },
  {
   "cell_type": "markdown",
   "id": "59cb0327",
   "metadata": {},
   "source": [
    "lst.sort() is a method on the list, that sorts the list. It sorts \"inplace\" and doesn't return anything."
   ]
  },
  {
   "cell_type": "code",
   "execution_count": 9,
   "id": "5f778d0d",
   "metadata": {},
   "outputs": [
    {
     "name": "stdout",
     "output_type": "stream",
     "text": [
      "[6, 12, 18, 24, 30, 0, 65, 76, 87, 98, 109, 120, 131, 142, 153, 164]\n",
      "[0, 6, 12, 18, 24, 30, 65, 76, 87, 98, 109, 120, 131, 142, 153, 164]\n"
     ]
    }
   ],
   "source": [
    "print(lst)\n",
    "lst.sort()\n",
    "print(lst)"
   ]
  },
  {
   "cell_type": "markdown",
   "id": "a6cf1a7e",
   "metadata": {},
   "source": [
    "### (d) Using ‘for’ loop, square each number in the sorted lst."
   ]
  },
  {
   "cell_type": "markdown",
   "id": "ee08de22",
   "metadata": {},
   "source": [
    "Using a for loop to iterate over each number in the sorted list and squaring them."
   ]
  },
  {
   "cell_type": "code",
   "execution_count": 10,
   "id": "e0cb44ed",
   "metadata": {},
   "outputs": [
    {
     "name": "stdout",
     "output_type": "stream",
     "text": [
      "[0, 36, 144, 324, 576, 900, 4225, 5776, 7569, 9604, 11881, 14400, 17161, 20164, 23409, 26896]\n"
     ]
    }
   ],
   "source": [
    "squared_lst = []\n",
    "for i in lst:\n",
    "    squared_lst.append(i**2)\n",
    "print(squared_lst)"
   ]
  },
  {
   "cell_type": "markdown",
   "id": "2f71750a",
   "metadata": {},
   "source": [
    "## 3.\n",
    "### (a) Create a list “lst”, containing elements in the range (-10, 10) with a gap of unity."
   ]
  },
  {
   "cell_type": "markdown",
   "id": "fd71de96",
   "metadata": {},
   "source": [
    "Creating a list \"lst\" with elements in the required range, with a gap of unity"
   ]
  },
  {
   "cell_type": "code",
   "execution_count": 11,
   "id": "850f8cce",
   "metadata": {},
   "outputs": [
    {
     "name": "stdout",
     "output_type": "stream",
     "text": [
      "[-10, -9, -8, -7, -6, -5, -4, -3, -2, -1, 0, 2, 3, 4, 5, 6, 7, 8, 9]\n"
     ]
    }
   ],
   "source": [
    "lst = []\n",
    "for i in range(-10, 10):\n",
    "    if i != 1:\n",
    "        lst.append(i)\n",
    "print(lst)"
   ]
  },
  {
   "cell_type": "markdown",
   "id": "db7458bd",
   "metadata": {},
   "source": [
    "### (b) Now using for loop create two more lists named “lstx” and “lstx”, with elements as squares and cubes of elements of “lst” respectively. Try writing the for loop in a single line to create each of the lists."
   ]
  },
  {
   "cell_type": "markdown",
   "id": "0038bf6c",
   "metadata": {},
   "source": [
    "Using list comprehension to create the required lists"
   ]
  },
  {
   "cell_type": "code",
   "execution_count": 12,
   "id": "f7d9cb16",
   "metadata": {},
   "outputs": [],
   "source": [
    "lstx = []\n",
    "lsty = []\n",
    "for i in lst: lstx.append(i**2)\n",
    "for i in lst: lsty.append(i**3)\n",
    "\n",
    "#Another way\n",
    "#lstx = [i**2 for i in lst]\n",
    "#lsty = [i**3 for i in lst]"
   ]
  },
  {
   "cell_type": "markdown",
   "id": "bf191170",
   "metadata": {},
   "source": [
    "### (c) Plot the lists “lstx” and “lsty”, with “lstx” on x-axis and “lsty” on y-axis. Put x and y label as X(units) and Y(units) respectively. Put plot title as “Stern Gerlach experiment like plot”. You need to import matplotlib.pyplot library."
   ]
  },
  {
   "cell_type": "markdown",
   "id": "d485ffa0",
   "metadata": {},
   "source": [
    "Plotting the required lists using the plot function from matplotlib"
   ]
  },
  {
   "cell_type": "code",
   "execution_count": 13,
   "id": "ad3c3644",
   "metadata": {},
   "outputs": [
    {
     "data": {
      "image/png": "[encoded data removed]",
      "text/plain": [
       "<Figure size 576x396 with 1 Axes>"
      ]
     },
     "metadata": {},
     "output_type": "display_data"
    }
   ],
   "source": [
    "#Using a different theme for fun!\n",
    "plt.style.use(\"seaborn\")\n",
    "\n",
    "plt.plot(lstx, lsty)\n",
    "plt.xlabel(\"X(units)\")\n",
    "plt.ylabel(\"Y(units)\")\n",
    "plt.title(\"Stern Gerlach Experiment like plot\")\n",
    "plt.show()"
   ]
  },
  {
   "cell_type": "markdown",
   "id": "e73fbb4f",
   "metadata": {},
   "source": [
    "## 4. In quantum mechanics, the two spin vectors denoting ‘+’ and ‘-’ (or up and down) spins are defined as:"
   ]
  },
  {
   "attachments": {
    "image.png": {
     "image/png": "[encoded data removed]"
    }
   },
   "cell_type": "markdown",
   "id": "10239a5f",
   "metadata": {},
   "source": [
    "![image.png](attachment:image.png)"
   ]
  },
  {
   "cell_type": "markdown",
   "id": "b2bbff93",
   "metadata": {},
   "source": [
    "Defining the required ket vectors"
   ]
  },
  {
   "cell_type": "code",
   "execution_count": 4,
   "id": "a9bba9be",
   "metadata": {},
   "outputs": [],
   "source": [
    "chi_plus = np.array([1,0])\n",
    "chi_minus = np.array([0,1])"
   ]
  },
  {
   "cell_type": "markdown",
   "id": "ba624827",
   "metadata": {},
   "source": [
    "### (a) Find <+|−> and <−|+>."
   ]
  },
  {
   "cell_type": "markdown",
   "id": "bfb87e2f",
   "metadata": {},
   "source": [
    "Printing the inner product of the two matrices"
   ]
  },
  {
   "cell_type": "code",
   "execution_count": 58,
   "id": "977b7897",
   "metadata": {},
   "outputs": [
    {
     "name": "stdout",
     "output_type": "stream",
     "text": [
      "0\n",
      "0\n"
     ]
    }
   ],
   "source": [
    "print(np.inner(chi_plus, chi_minus))\n",
    "print(np.inner(chi_minus, chi_plus))\n",
    "#print(np.dot(chi_minus, chi_plus)) also works"
   ]
  },
  {
   "attachments": {
    "image.png": {
     "image/png": "[encoded data removed]"
    }
   },
   "cell_type": "markdown",
   "id": "53c89ccb",
   "metadata": {},
   "source": [
    "### (b) Using the ‘outer’ package from numpy, construct the following spin operators for a spin-1/2 system and print them\n",
    "![image.png](attachment:image.png)\n",
    "### You’ll get 2 × 2 matrices. What do these matrices remind you of?"
   ]
  },
  {
   "cell_type": "markdown",
   "id": "6f9e1e17",
   "metadata": {},
   "source": [
    "Defining the required matrices $S_x$, $S_y$, $S_z$ "
   ]
  },
  {
   "cell_type": "code",
   "execution_count": 11,
   "id": "d5afb16d",
   "metadata": {},
   "outputs": [],
   "source": [
    "S_x = 0.5*(np.outer(chi_plus, chi_minus) + np.outer(chi_minus, chi_plus))\n",
    "S_y = (0.5j)*(np.outer(chi_minus, chi_plus) - np.outer(chi_plus, chi_minus))\n",
    "S_z = (0.5)*(np.outer(chi_plus, chi_plus) - np.outer(chi_minus, chi_minus))"
   ]
  },
  {
   "cell_type": "code",
   "execution_count": 12,
   "id": "ef9f0836",
   "metadata": {},
   "outputs": [
    {
     "name": "stdout",
     "output_type": "stream",
     "text": [
      "[[0.  0.5]\n",
      " [0.5 0. ]]\n",
      "[[ 0.+0.j  -0.-0.5j]\n",
      " [ 0.+0.5j  0.+0.j ]]\n",
      "[[ 0.5  0. ]\n",
      " [ 0.  -0.5]]\n"
     ]
    }
   ],
   "source": [
    "print(S_x)\n",
    "print(S_y)\n",
    "print(S_z)"
   ]
  },
  {
   "cell_type": "markdown",
   "id": "a80a9358",
   "metadata": {},
   "source": [
    "**Inference:** The outputs S_x is a symmetric matrix, S_y is a skew symmetric matrix, and S_z is a symmetric matrix. All of them have the same determinant!"
   ]
  },
  {
   "attachments": {
    "image.png": {
     "image/png": "[encoded data removed]"
    }
   },
   "cell_type": "markdown",
   "id": "aa7c658e",
   "metadata": {},
   "source": [
    "### (c) Define the following ladder operators and print them:\n",
    "![image.png](attachment:image.png)"
   ]
  },
  {
   "cell_type": "markdown",
   "id": "835c4ad7",
   "metadata": {},
   "source": [
    "Defining the $S_+$ and $S_-$ matrices"
   ]
  },
  {
   "cell_type": "code",
   "execution_count": 124,
   "id": "72f1add4",
   "metadata": {},
   "outputs": [],
   "source": [
    "S_plus = S_x + 1j*S_y\n",
    "S_minus = S_x - 1j*S_y"
   ]
  },
  {
   "cell_type": "code",
   "execution_count": 17,
   "id": "8195e6b7",
   "metadata": {},
   "outputs": [
    {
     "name": "stdout",
     "output_type": "stream",
     "text": [
      "[[0.+0.j 1.+0.j]\n",
      " [0.+0.j 0.+0.j]]\n",
      "\n",
      "[[0.+0.j 0.+0.j]\n",
      " [1.+0.j 0.+0.j]]\n"
     ]
    }
   ],
   "source": [
    "print(S_plus, S_minus, sep = \"\\n\\n\")"
   ]
  },
  {
   "attachments": {
    "image.png": {
     "image/png": "[encoded data removed]"
    }
   },
   "cell_type": "markdown",
   "id": "402e1331",
   "metadata": {},
   "source": [
    "### (d) Commutation relation between 2 matrices A, B is defined as: [A, B] = AB −BA, where AB is simple matrix multiplication.\n",
    "### Prove the following commutation relations:\n",
    "![image.png](attachment:image.png)"
   ]
  },
  {
   "cell_type": "markdown",
   "id": "37df543f",
   "metadata": {},
   "source": [
    "Defining a commutation function, that returns [A, B]"
   ]
  },
  {
   "cell_type": "code",
   "execution_count": 25,
   "id": "9340a7ec",
   "metadata": {},
   "outputs": [],
   "source": [
    "def commutation(A, B):\n",
    "    return (np.matmul(A, B) - np.matmul(B, A))"
   ]
  },
  {
   "cell_type": "markdown",
   "id": "ab9a0d1a",
   "metadata": {},
   "source": [
    "Checking all of the required equalities."
   ]
  },
  {
   "cell_type": "code",
   "execution_count": 127,
   "id": "a0e4c656",
   "metadata": {},
   "outputs": [
    {
     "name": "stdout",
     "output_type": "stream",
     "text": [
      "True\n",
      "True\n",
      "True\n",
      "True\n",
      "True\n",
      "True\n"
     ]
    }
   ],
   "source": [
    "print(np.array_equal(commutation(S_x, S_y),  1j*S_z))\n",
    "print(np.array_equal(commutation(S_y, S_z),  1j*S_x))\n",
    "print(np.array_equal(commutation(S_z, S_x),  1j*S_y))\n",
    "print(np.array_equal(commutation(S_z, S_plus),  S_plus))\n",
    "print(np.array_equal(commutation(S_z, S_minus),  -S_minus))\n",
    "print(np.array_equal(commutation(S_plus, S_minus), 2*S_z))"
   ]
  },
  {
   "cell_type": "markdown",
   "id": "30669139",
   "metadata": {},
   "source": [
    "All of them are equal!!"
   ]
  },
  {
   "attachments": {
    "image.png": {
     "image/png": "[encoded data removed]"
    }
   },
   "cell_type": "markdown",
   "id": "32264325",
   "metadata": {},
   "source": [
    "### (e) Prove the following self multiplication properties of above defined matrices:\n",
    "![image.png](attachment:image.png)\n",
    "### where I is the identity matrix."
   ]
  },
  {
   "cell_type": "markdown",
   "id": "c537f57a",
   "metadata": {},
   "source": [
    "Defining the 2 x 2 identity matrix"
   ]
  },
  {
   "cell_type": "code",
   "execution_count": 128,
   "id": "e1ec18ac",
   "metadata": {},
   "outputs": [],
   "source": [
    "I =  np.identity(2)"
   ]
  },
  {
   "cell_type": "markdown",
   "id": "fbbf10af",
   "metadata": {},
   "source": [
    "Printing that the matrix product of $S_x$ with itself is I/4!"
   ]
  },
  {
   "cell_type": "code",
   "execution_count": 129,
   "id": "5fbdc028",
   "metadata": {},
   "outputs": [
    {
     "name": "stdout",
     "output_type": "stream",
     "text": [
      "True\n",
      "True\n"
     ]
    }
   ],
   "source": [
    "S_x_squared = np.matmul(S_x, S_x)\n",
    "print(np.array_equal(S_x_squared,I/4))\n",
    "S_y_squared = np.matmul(S_y, S_y)\n",
    "print(np.array_equal(S_y_squared,I/4))"
   ]
  },
  {
   "cell_type": "markdown",
   "id": "709e0508",
   "metadata": {},
   "source": [
    "### (f) Find the conjugate transpose of $S_xˆ2$, $S_yˆ2$, and $S_zˆ2$. Also compute the Eigenvalues and Eigenvectors of all three. What can you infer about the type of matrices based on these two computation?"
   ]
  },
  {
   "cell_type": "markdown",
   "id": "ba3dbf67",
   "metadata": {},
   "source": [
    "Taking the tranpose of the given matrix using the np.transpose function and conjugating it"
   ]
  },
  {
   "cell_type": "code",
   "execution_count": 130,
   "id": "dccdbdbb",
   "metadata": {},
   "outputs": [
    {
     "name": "stdout",
     "output_type": "stream",
     "text": [
      "[[0.25 0.  ]\n",
      " [0.   0.25]]\n",
      "[[0.25-0.j 0.  -0.j]\n",
      " [0.  -0.j 0.25-0.j]]\n",
      "[[0.25 0.  ]\n",
      " [0.   0.25]]\n"
     ]
    }
   ],
   "source": [
    "for matrix in S_x, S_y, S_z:\n",
    "    required_matrix = np.transpose(np.conjugate(np.matmul(matrix, matrix)))\n",
    "    print(required_matrix)"
   ]
  },
  {
   "cell_type": "markdown",
   "id": "e7fb10c0",
   "metadata": {},
   "source": [
    "Iterating over $S_x, S_y, S_z$ and printing all of their eigenvalues and eigenvectors"
   ]
  },
  {
   "cell_type": "code",
   "execution_count": 132,
   "id": "6b7c8fb6",
   "metadata": {},
   "outputs": [
    {
     "name": "stdout",
     "output_type": "stream",
     "text": [
      "Eigenvalues: \n",
      " [ 0.5 -0.5] \n",
      " Eigenvectors:  \n",
      " [[ 0.70710678 -0.70710678]\n",
      " [ 0.70710678  0.70710678]]\n",
      "\n",
      "\n",
      "Eigenvalues: \n",
      " [ 0.5+0.j -0.5+0.j] \n",
      " Eigenvectors:  \n",
      " [[ 0.70710678+0.j          0.70710678+0.j        ]\n",
      " [-0.        +0.70710678j  0.        -0.70710678j]]\n",
      "\n",
      "\n",
      "Eigenvalues: \n",
      " [ 0.5 -0.5] \n",
      " Eigenvectors:  \n",
      " [[1. 0.]\n",
      " [0. 1.]]\n",
      "\n",
      "\n"
     ]
    }
   ],
   "source": [
    "for matrix in S_x, S_y, S_z:\n",
    "    eigenvalues, eigenvectors = LA.eig(matrix)\n",
    "    print(\"Eigenvalues: \\n\", eigenvalues, \"\\n Eigenvectors:  \\n\", eigenvectors, end = \"\\n\\n\\n\")"
   ]
  },
  {
   "cell_type": "markdown",
   "id": "52ecd298",
   "metadata": {},
   "source": [
    "## 5."
   ]
  },
  {
   "cell_type": "markdown",
   "id": "b300b67b",
   "metadata": {},
   "source": [
    "### (a) Solve the following system of linear equations:\n",
    "### 2x + 3y + 7z = 3\n",
    "### x + 4y + 9z = 7\n",
    "### y + 3z = 1"
   ]
  },
  {
   "cell_type": "markdown",
   "id": "cac62f08",
   "metadata": {},
   "source": [
    "Considering the equation mx = b, where m is the coefficient matrix"
   ]
  },
  {
   "cell_type": "code",
   "execution_count": 133,
   "id": "9a057866",
   "metadata": {},
   "outputs": [],
   "source": [
    "#mx = b\n",
    "m = np.array([\n",
    "    [2,3,7],\n",
    "    [1,4,9],\n",
    "    [1,3,1],\n",
    "])\n",
    "b = np.array([3,7,1])"
   ]
  },
  {
   "cell_type": "markdown",
   "id": "b26c96b5",
   "metadata": {},
   "source": [
    "Using LA.solve to solve the given linear equations!"
   ]
  },
  {
   "cell_type": "code",
   "execution_count": 63,
   "id": "93e97c4f",
   "metadata": {},
   "outputs": [
    {
     "name": "stdout",
     "output_type": "stream",
     "text": [
      "[-1.93103448  0.75862069  0.65517241]\n"
     ]
    }
   ],
   "source": [
    "x = LA.solve(m,b)\n",
    "print(x)"
   ]
  },
  {
   "cell_type": "markdown",
   "id": "0a84fba8",
   "metadata": {},
   "source": [
    "### (b) Find the inverse of the matrix formed by the LHS of the equations above."
   ]
  },
  {
   "cell_type": "markdown",
   "id": "421bacd2",
   "metadata": {},
   "source": [
    "Using LA.inv function to compute inverse of the matrix M"
   ]
  },
  {
   "cell_type": "code",
   "execution_count": 134,
   "id": "1184d291",
   "metadata": {},
   "outputs": [
    {
     "name": "stdout",
     "output_type": "stream",
     "text": [
      "[[ 0.79310345 -0.62068966  0.03448276]\n",
      " [-0.27586207  0.17241379  0.37931034]\n",
      " [ 0.03448276  0.10344828 -0.17241379]]\n"
     ]
    }
   ],
   "source": [
    "m_inverse = LA.inv(m)\n",
    "print(m_inverse)"
   ]
  },
  {
   "attachments": {
    "image-2.png": {
     "image/png": "[encoded data removed]"
    },
    "image.png": {
     "image/png": "[encoded data removed]"
    }
   },
   "cell_type": "markdown",
   "id": "46c562dd",
   "metadata": {},
   "source": [
    "## 6. Consider the matrix A\n",
    "![image.png](attachment:image.png)\n",
    "## Upon simplifying the equation, Det[A − λ ∗ I] = 0, where I is 3×3 identity matrix, one can obtain an equation in λ (known as the characteristic equation), which is given by\n",
    "![image-2.png](attachment:image-2.png)"
   ]
  },
  {
   "cell_type": "markdown",
   "id": "9f88ce64",
   "metadata": {},
   "source": [
    "Defining the matrix A"
   ]
  },
  {
   "cell_type": "code",
   "execution_count": 82,
   "id": "ae28c53d",
   "metadata": {},
   "outputs": [],
   "source": [
    "A = np.array([\n",
    "[2,1,1],\n",
    "[3,2,1],\n",
    "[2,1,2]\n",
    "])"
   ]
  },
  {
   "cell_type": "markdown",
   "id": "3e559a70",
   "metadata": {},
   "source": [
    "### (a) Solve eq for λ using the ‘root’ function in the Numpy package."
   ]
  },
  {
   "cell_type": "markdown",
   "id": "1789679b",
   "metadata": {},
   "source": [
    "Keeping track of the coefficients of the polynomial in the `coefficients` array and using np.roots function to compute the roots"
   ]
  },
  {
   "cell_type": "code",
   "execution_count": 96,
   "id": "c7c4927c",
   "metadata": {},
   "outputs": [
    {
     "name": "stdout",
     "output_type": "stream",
     "text": [
      "[4.79128785 1.         0.20871215]\n"
     ]
    }
   ],
   "source": [
    "coefficients = [1, -6, 6, -1]\n",
    "roots = np.roots(coefficients)\n",
    "print(roots)"
   ]
  },
  {
   "cell_type": "markdown",
   "id": "a2880d58",
   "metadata": {},
   "source": [
    "### (b) Substitute the λ values obtained from part (a) into eq. to verify it. Note: You may have to use the function ‘around’ from numpy package to get exact 0."
   ]
  },
  {
   "cell_type": "markdown",
   "id": "00236f59",
   "metadata": {},
   "source": [
    "Iterating over every root and substituting it in the characteristic equation"
   ]
  },
  {
   "cell_type": "code",
   "execution_count": 113,
   "id": "24d9bc53",
   "metadata": {},
   "outputs": [
    {
     "name": "stdout",
     "output_type": "stream",
     "text": [
      "-0.0\n",
      "0.0\n",
      "0.0\n"
     ]
    }
   ],
   "source": [
    "for root in roots:\n",
    "    print(np.around(np.polyval(coefficients, root), 9))"
   ]
  },
  {
   "cell_type": "markdown",
   "id": "449b0923",
   "metadata": {},
   "source": [
    "The roots do turn out to be zero!"
   ]
  },
  {
   "cell_type": "markdown",
   "id": "7be47fbb",
   "metadata": {},
   "source": [
    "### (c) λ is actually the eigenvalue of A. Verify this fact by finding out the eigenvalues of A. They will match the roots exactly."
   ]
  },
  {
   "cell_type": "markdown",
   "id": "e16c5cd0",
   "metadata": {},
   "source": [
    "Printing all the eigenvalues of A"
   ]
  },
  {
   "cell_type": "code",
   "execution_count": 135,
   "id": "e2c587c6",
   "metadata": {},
   "outputs": [
    {
     "name": "stdout",
     "output_type": "stream",
     "text": [
      "[4.79128785 0.20871215 1.        ]\n"
     ]
    }
   ],
   "source": [
    "eigenvalues = LA.eigvals(A)\n",
    "print(eigenvalues)"
   ]
  },
  {
   "cell_type": "markdown",
   "id": "7b4e5e8d",
   "metadata": {},
   "source": [
    "This is the same as the roots array (it's in a different order, but order doesn't matter)"
   ]
  },
  {
   "cell_type": "markdown",
   "id": "39bde1ce",
   "metadata": {},
   "source": [
    "### (d) Now in place of λ substitute the matrix A in eq. and prove the fact that every matrix satisfies its own characteristic equation. Note: Remember for matrices, $A^3$ does not mean each element cubed, instead it means A.A.A and so on."
   ]
  },
  {
   "cell_type": "markdown",
   "id": "14dc318b",
   "metadata": {},
   "source": [
    "Substituting the matrix A in the given characteristic equation and checking if it's equal to zero (I'm using the LA.matrix_power function to raise A to the appropriate power)"
   ]
  },
  {
   "cell_type": "code",
   "execution_count": 136,
   "id": "fcffee2c",
   "metadata": {},
   "outputs": [
    {
     "data": {
      "text/plain": [
       "True"
      ]
     },
     "execution_count": 136,
     "metadata": {},
     "output_type": "execute_result"
    }
   ],
   "source": [
    "matrix_in_char_eqn = LA.matrix_power(A, 3) - 6* LA.matrix_power(A, 2) + 6* LA.matrix_power(A, 1) - np.identity(3)\n",
    "np.array_equal(matrix_in_char_eqn, np.zeros((3,3)))"
   ]
  },
  {
   "attachments": {
    "image.png": {
     "image/png": "[encoded data removed]"
    }
   },
   "cell_type": "markdown",
   "id": "897814c2",
   "metadata": {},
   "source": [
    "### (e) After substituting the value A in eqn. (21) and post multiplying it with $A^{−1}$ and doing some massaging , we will get an equation for $A^{−1}$ as,\n",
    "![image.png](attachment:image.png)\n",
    "### Now substitute the value of A and I in eq. (22) find the inverse. Also verify it by explicitly calculating the value of $A^{−1}$ using the linalg package."
   ]
  },
  {
   "cell_type": "markdown",
   "id": "864482f5",
   "metadata": {},
   "source": [
    "Defining the substituted matrix to be A substituted in RHS"
   ]
  },
  {
   "cell_type": "code",
   "execution_count": 119,
   "id": "deb87cb4",
   "metadata": {},
   "outputs": [],
   "source": [
    "substituted_matrix = LA.matrix_power(A, 2) - 6 * A + 6 * np.identity(3)"
   ]
  },
  {
   "cell_type": "markdown",
   "id": "6fbb984a",
   "metadata": {},
   "source": [
    "Defining the inverse matrix to be the inverse of A"
   ]
  },
  {
   "cell_type": "code",
   "execution_count": 120,
   "id": "213a3610",
   "metadata": {},
   "outputs": [],
   "source": [
    "inverse_matrix = LA.inv(A)"
   ]
  },
  {
   "cell_type": "markdown",
   "id": "f6c1bca6",
   "metadata": {},
   "source": [
    "Verifying the two are equal (within error bounds of inversion)"
   ]
  },
  {
   "cell_type": "code",
   "execution_count": 123,
   "id": "26240595",
   "metadata": {},
   "outputs": [
    {
     "data": {
      "text/plain": [
       "True"
      ]
     },
     "execution_count": 123,
     "metadata": {},
     "output_type": "execute_result"
    }
   ],
   "source": [
    "np.array_equal(np.around(substituted_matrix, 6), np.around(inverse_matrix, 6))"
   ]
  }
 ],
 "metadata": {
  "kernelspec": {
   "display_name": "Python 3 (ipykernel)",
   "language": "python",
   "name": "python3"
  },
  "language_info": {
   "codemirror_mode": {
    "name": "ipython",
    "version": 3
   },
   "file_extension": ".py",
   "mimetype": "text/x-python",
   "name": "python",
   "nbconvert_exporter": "python",
   "pygments_lexer": "ipython3",
   "version": "3.10.2"
  }
 },
 "nbformat": 4,
 "nbformat_minor": 5
}
